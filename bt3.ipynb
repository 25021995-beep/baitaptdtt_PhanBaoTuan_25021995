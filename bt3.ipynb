{
 "cells": [
  {
   "metadata": {
    "ExecuteTime": {
     "end_time": "2025-10-01T16:20:59.109788Z",
     "start_time": "2025-10-01T16:20:50.313107Z"
    }
   },
   "cell_type": "code",
   "source": [
    "def main():\n",
    "    songuyen=int(input(\"nhap so nguyen\"))\n",
    "    a=[]\n",
    "    b=[]\n",
    "    i=0\n",
    "    while songuyen>0:\n",
    "        sodu=songuyen%10\n",
    "        a.append(sodu)\n",
    "        songuyen=songuyen//10\n",
    "    while i<len(a):\n",
    "        print(a[i],end=\"\")\n",
    "        i=i+1\n",
    "main()"
   ],
   "id": "388e80ca214832cd",
   "outputs": [
    {
     "name": "stdout",
     "output_type": "stream",
     "text": [
      "4321"
     ]
    }
   ],
   "execution_count": 1
  },
  {
   "metadata": {
    "ExecuteTime": {
     "end_time": "2025-10-01T16:38:12.442216Z",
     "start_time": "2025-10-01T16:38:07.163405Z"
    }
   },
   "cell_type": "code",
   "source": [
    "so1=int(input(\"nhap so nguyen\"))\n",
    "so2=int(input(\"nhap so nguyen\"))\n",
    "so1=so1^so2\n",
    "so2=so1^so2\n",
    "so1=so1^so2\n",
    "print(so1)\n",
    "print(so2)"
   ],
   "id": "2be3e188865f4e4",
   "outputs": [
    {
     "name": "stdout",
     "output_type": "stream",
     "text": [
      "42\n",
      "21\n"
     ]
    }
   ],
   "execution_count": 5
  },
  {
   "metadata": {},
   "cell_type": "code",
   "outputs": [],
   "execution_count": null,
   "source": [
    "number=int(input(\"nhap 1 so nguyen\"))\n",
    "a=number-1\n",
    "if number&a==0:\n",
    "    print(number,\"la luy thua cua 2:true\")\n",
    "else:\n",
    "    print(number,\"la luy thua cua 2:false\")\n"
   ],
   "id": "e49668522cd6bc5"
  },
  {
   "metadata": {},
   "cell_type": "code",
   "outputs": [],
   "execution_count": null,
   "source": [
    "m=float(input(\"dien so\"))\n",
    "n=float(input(\"dien so\"))\n",
    "print(m//n)"
   ],
   "id": "e5d4b2db5f7b892f"
  },
  {
   "metadata": {},
   "cell_type": "code",
   "outputs": [],
   "execution_count": null,
   "source": [
    "m=float(input(\"dien so\"))\n",
    "n=float(input(\"dien so\"))\n",
    "if m//n==m/n:\n",
    "    print(m//n)\n",
    "else:\n",
    "    print(m//n+1)"
   ],
   "id": "54aa1b209cbd2e9f"
  },
  {
   "metadata": {},
   "cell_type": "code",
   "outputs": [],
   "execution_count": null,
   "source": [
    "number=int(input(\"dien so\"))\n",
    "if number%2==0:\n",
    "    print(number,\"is even\")\n",
    "else:\n",
    "    print(number,\"is odd\")"
   ],
   "id": "3389cc15163cec8c"
  },
  {
   "metadata": {},
   "cell_type": "code",
   "outputs": [],
   "execution_count": null,
   "source": [
    "number1=int(input(\"Enter a number\"))\n",
    "number2=int(input(\"Enter a number\"))\n",
    "if number1+number2<0:\n",
    "    print(\"yes\")\n",
    "else:\n",
    "    print(\"no\")"
   ],
   "id": "c4dccb63edd93f05"
  },
  {
   "metadata": {},
   "cell_type": "code",
   "outputs": [],
   "execution_count": null,
   "source": [
    "str1=input(\"enter string\")\n",
    "str2=input(\"enter string\")\n",
    "if len(str1)>len(str2):\n",
    "    print(\"true\")\n",
    "elif len(str1)<len(str2):\n",
    "    print(\"false\")\n",
    "else:\n",
    "    print(\"2 strings are equal\")"
   ],
   "id": "f5630c106185d523"
  },
  {
   "metadata": {},
   "cell_type": "code",
   "outputs": [],
   "execution_count": null,
   "source": [
    "a=float(input(\"Enter a number: \"))\n",
    "b=float(input(\"Enter a number: \"))\n",
    "c=float(input(\"Enter a number: \"))\n",
    "if a+b>c and a+c>b and b+c>a:\n",
    "    print(\"yes\")\n",
    "else:\n",
    "    print(\"no\")"
   ],
   "id": "72e55ff213c75cb5"
  },
  {
   "metadata": {},
   "cell_type": "code",
   "outputs": [],
   "execution_count": null,
   "source": [
    "a=[]\n",
    "i=0\n",
    "j=0\n",
    "temp1=None\n",
    "while i<4:\n",
    "    so=input(\"enter number\")\n",
    "    a.append(so)\n",
    "    i=i+1\n",
    "while i<4:\n",
    "    while j<4:\n",
    "        if a[i]<a[j+1]:\n",
    "            a[i]=temp1\n",
    "            a[j+1]=a[i]\n",
    "            temp1=a[j+1]\n",
    "        j=j+1\n",
    "    i=i+1\n",
    "print(a[3])"
   ],
   "id": "e15667758be57f81"
  },
  {
   "metadata": {},
   "cell_type": "code",
   "outputs": [],
   "execution_count": null,
   "source": [
    "a=float(input(\"Enter a number: \"))\n",
    "b=float(input(\"Enter a number: \"))\n",
    "c=float(input(\"Enter a number: \"))\n",
    "if a+b>c and a+c>b and b+c>a:\n",
    "    print(\"tam giac hop le\")\n",
    "    if a==b or a==c or b==c:\n",
    "        print(\"tam giac can\")\n",
    "    elif a==b==c:\n",
    "        print(\"tam giac deu\")\n",
    "    else:\n",
    "        print(\"tam giac thuong\")\n",
    "else:\n",
    "    print(\"tam giac ko hop le\")\n"
   ],
   "id": "d8ca53193d9613c7"
  },
  {
   "metadata": {},
   "cell_type": "code",
   "outputs": [],
   "execution_count": null,
   "source": [
    "nam=int(input(\"nhap nam\"))\n",
    "if nam%4==0 and nam%100!=0 or nam%400==0:\n",
    "    print(\"nam nhuan:Yes\")\n",
    "else:\n",
    "    print(\"nam nhuan:No\")"
   ],
   "id": "88fe69f88fc70178"
  },
  {
   "metadata": {},
   "cell_type": "code",
   "outputs": [],
   "execution_count": null,
   "source": [
    "sodien=int(input(\"nhap so dien\"))\n",
    "if sodien<=50:\n",
    "    a=sodien*1500\n",
    "    print(\"tien dien la\",a)\n",
    "elif sodien>50 and sodien<=100:\n",
    "    b=50*1500+(sodien-50)*2000\n",
    "    print(\"tien dien la\",b)\n",
    "elif sodien>100:\n",
    "    c=50*1500+50*2000+(sodien-100)*3000\n",
    "    print(\"tien dien la\",c)"
   ],
   "id": "186988b8a7cdebde"
  },
  {
   "metadata": {},
   "cell_type": "code",
   "outputs": [],
   "execution_count": null,
   "source": [
    "#nhap pt ax+b=0\n",
    "a=float(input(\"enter a\"))\n",
    "b=float(input(\"enter b\"))\n",
    "if a==0:\n",
    "    print(\"vo nghiem\")\n",
    "elif a==0 and b==0:\n",
    "    print(\"vo so nghiem\")\n",
    "else:\n",
    "    print(\"x la\",round(-b/a,2))"
   ],
   "id": "a79e114f404251dd"
  },
  {
   "metadata": {},
   "cell_type": "code",
   "outputs": [],
   "execution_count": null,
   "source": [
    "score=float(input(\"enter your score:\"))\n",
    "if 10.0>=score>=8.0:\n",
    "    print(\"gioi\")\n",
    "elif 8.0>score>=6.5:\n",
    "    print(\"kha\")\n",
    "elif 6.5>score>=5.0:\n",
    "    print(\"trung binh\")\n",
    "elif 5.0>score>=0.0:\n",
    "    print(\"yeu\")"
   ],
   "id": "7672025ac21b019f"
  },
  {
   "metadata": {},
   "cell_type": "code",
   "outputs": [],
   "execution_count": null,
   "source": [
    "number1=float(input(\"enter number1\"))\n",
    "a=number1//1\n",
    "if number1-a<0.5:\n",
    "    number2=a\n",
    "if number1-a>=0.5:\n",
    "    number2=a+1\n",
    "print(a+1,\" \",a,\" \",number2)\n",
    "\n"
   ],
   "id": "5f3a7e99874611f2"
  }
 ],
 "metadata": {
  "kernelspec": {
   "display_name": "Python 3",
   "language": "python",
   "name": "python3"
  },
  "language_info": {
   "codemirror_mode": {
    "name": "ipython",
    "version": 2
   },
   "file_extension": ".py",
   "mimetype": "text/x-python",
   "name": "python",
   "nbconvert_exporter": "python",
   "pygments_lexer": "ipython2",
   "version": "2.7.6"
  }
 },
 "nbformat": 4,
 "nbformat_minor": 5
}
