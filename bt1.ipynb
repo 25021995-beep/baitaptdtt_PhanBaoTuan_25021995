{
 "cells": [
  {
   "cell_type": "code",
   "execution_count": null,
   "id": "initial_id",
   "metadata": {
    "collapsed": true
   },
   "outputs": [],
   "source": "print(\"Hello World\")"
  },
  {
   "metadata": {},
   "cell_type": "code",
   "outputs": [],
   "execution_count": null,
   "source": [
    "a=input(\"what is your name?\")\n",
    "print(\"hello\", a)"
   ],
   "id": "84b93ec7566fd3f5"
  },
  {
   "metadata": {},
   "cell_type": "code",
   "outputs": [],
   "execution_count": null,
   "source": [
    "a=int(input(\"dien so thu 1\"))\n",
    "b=int(input(\"dien so thu 2\"))\n",
    "tong=a+b\n",
    "hieu=a-b\n",
    "tich=a*b\n",
    "phannguyen=a//b\n",
    "phandu=a%b\n",
    "chiathuc=a/b\n",
    "print(\"a+b=\",tong)\n",
    "print(\"a-b=\",hieu)\n",
    "print(\"a*b=\",tich)\n",
    "print(\"a//b=\",phannguyen)\n",
    "print(\"a%b=\",phandu)\n",
    "print(\"a/b=\",chiathuc)"
   ],
   "id": "b323ae229e6d6d44"
  },
  {
   "metadata": {},
   "cell_type": "code",
   "outputs": [],
   "execution_count": null,
   "source": [
    "scores=input(\"dien so diem\").split()\n",
    "a1,b1,c1,a2,b2,a3=map(float,scores)\n",
    "diemtrungbinh=((a1+b1+c1)+(a2+b2)*2+a3*3)/10\n",
    "print(\"diem trung binh \",round(diemtrungbinh,1))"
   ],
   "id": "e56d35580df69c7b"
  },
  {
   "metadata": {},
   "cell_type": "code",
   "outputs": [],
   "execution_count": null,
   "source": [
    "a=int(input(\"nhap vao co so\"))\n",
    "b=int(input(\"nhap vao so mu\"))\n",
    "c=a**b\n",
    "print(\"a mu b=\",c)"
   ],
   "id": "f23ec9c2b2a53437"
  },
  {
   "metadata": {},
   "cell_type": "code",
   "outputs": [],
   "execution_count": null,
   "source": [
    "a=(input(\"nhap 1 chu\"))\n",
    "a.upper()\n",
    "print(ord(a))\n",
    "print(\"chu in hoa\",a.upper())"
   ],
   "id": "6ef084308ff88d2b"
  },
  {
   "metadata": {},
   "cell_type": "code",
   "outputs": [],
   "execution_count": null,
   "source": [
    "a=((13**2)*3)+5\n",
    "b=13**2*3+5\n",
    "print(a)\n",
    "print(b)"
   ],
   "id": "ef217f38d7a0326c"
  },
  {
   "metadata": {},
   "cell_type": "code",
   "outputs": [],
   "execution_count": null,
   "source": [
    "a=float(input(\"nhap do C\"))\n",
    "b=9/5*a+32\n",
    "print(\"do F tuong ung la\",round(b,2))"
   ],
   "id": "79d8ac31c4b225d2"
  },
  {
   "metadata": {},
   "cell_type": "code",
   "outputs": [],
   "execution_count": null,
   "source": [
    "giadongho=float(input(\"gia dong ho\"))\n",
    "b=(giadongho+10)*1.3*1.1\n",
    "print(\"tien phai tra\",round(b,2))"
   ],
   "id": "d504d64fad8f872c"
  },
  {
   "metadata": {},
   "cell_type": "code",
   "outputs": [],
   "execution_count": null,
   "source": [
    "a=input(\"nhap ten 3 nguoi\").split(\" \")\n",
    "print(a[2],a[1],a[0])"
   ],
   "id": "dd3db7491eb5a955"
  },
  {
   "metadata": {},
   "cell_type": "code",
   "outputs": [],
   "execution_count": null,
   "source": [
    "a=int(input(\"so gio\"))\n",
    "b=int(input(\"so phut\"))\n",
    "sogiay=a*3600+b*60\n",
    "print(\"tu\",a,\"gio va\",b,\"phut doi ra\",sogiay,\"giay\")"
   ],
   "id": "a3b57fc43418fecf"
  },
  {
   "metadata": {},
   "cell_type": "code",
   "outputs": [],
   "execution_count": null,
   "source": [
    "dodaicanh=float(input(\"nhap do dai canh\"))\n",
    "#1 mieng dan co dien tich 1\n",
    "#1 mat dien tich n^2\n",
    "b=(dodaicanh**2)*6\n",
    "print(\"so mieng dan can\",b)"
   ],
   "id": "fa62d3f9d37af9fe"
  },
  {
   "metadata": {},
   "cell_type": "code",
   "outputs": [],
   "execution_count": null,
   "source": [
    "a=int(input(\"nhap so thu nhat\"))\n",
    "b=int(input(\"nhap so thu hai\"))\n",
    "c=(a*b)%10\n",
    "print(\"hang don vi cua tich axb la\",c)\n"
   ],
   "id": "b7719f015702c97a"
  },
  {
   "metadata": {},
   "cell_type": "code",
   "outputs": [],
   "execution_count": null,
   "source": [
    "a=6\n",
    "b=12\n",
    "a,b=b,a\n",
    "print(a,b)"
   ],
   "id": "8a3f8255d846a7cc"
  },
  {
   "metadata": {},
   "cell_type": "code",
   "outputs": [],
   "execution_count": null,
   "source": [
    "n=int(input(\"nhap so n\"))\n",
    "a=6*n*(n-1)+1\n",
    "print(\"so sao ung voi n là\",a)"
   ],
   "id": "ab7979cc71a1c031"
  },
  {
   "metadata": {},
   "cell_type": "code",
   "outputs": [],
   "execution_count": null,
   "source": "print(\"spring\", \"Summer\", \"Autumn\", \"Winter\", sep = \"\\n\")",
   "id": "262bc24b89f5705"
  },
  {
   "metadata": {},
   "cell_type": "code",
   "outputs": [],
   "execution_count": null,
   "source": [
    "print(\"*\")\n",
    "print(\"***\")\n",
    "print(\"*****\")"
   ],
   "id": "f85ca96f4b69d9ce"
  },
  {
   "metadata": {},
   "cell_type": "code",
   "outputs": [],
   "execution_count": null,
   "source": [
    "print(\"### # #   ###   ###\")\n",
    "print(\" #  #  #   #     #\")\n",
    "print(\" #  #  #   #     #\")\n",
    "print(\" #  # #    #     #\")\n",
    "print(\" #  #      #     #\")"
   ],
   "id": "b966e6b8107458f"
  },
  {
   "metadata": {},
   "cell_type": "code",
   "outputs": [],
   "execution_count": null,
   "source": [
    "print(\"monday\")\n",
    "print(\"Tuesday\")\n",
    "print(\"Wednesday\")\n",
    "print(\"Thursday\")\n",
    "print(\"Friday\")\n",
    "print(\"Saturday\")\n",
    "print(\"Sunday\")"
   ],
   "id": "e65330e0c13cb47c"
  },
  {
   "metadata": {},
   "cell_type": "code",
   "outputs": [],
   "execution_count": null,
   "source": [
    "print(\"january\")\n",
    "print(\"February\")\n",
    "print(\"March\")\n",
    "print(\"April\")\n",
    "print(\"May\")\n",
    "print(\"June\")\n",
    "print(\"July\")\n",
    "print(\"August\")\n",
    "print(\"September\")\n",
    "print(\"October\")\n",
    "print(\"November\")\n",
    "print(\"December\")"
   ],
   "id": "f79d54066d1a0428"
  },
  {
   "metadata": {},
   "cell_type": "code",
   "outputs": [],
   "execution_count": null,
   "source": [
    "\n",
    "for i in range(0,10):\n",
    "    print(\"Hello,World!\")"
   ],
   "id": "9da4c34bf95091d7"
  }
 ],
 "metadata": {
  "kernelspec": {
   "display_name": "Python 3",
   "language": "python",
   "name": "python3"
  },
  "language_info": {
   "codemirror_mode": {
    "name": "ipython",
    "version": 2
   },
   "file_extension": ".py",
   "mimetype": "text/x-python",
   "name": "python",
   "nbconvert_exporter": "python",
   "pygments_lexer": "ipython2",
   "version": "2.7.6"
  }
 },
 "nbformat": 4,
 "nbformat_minor": 5
}
