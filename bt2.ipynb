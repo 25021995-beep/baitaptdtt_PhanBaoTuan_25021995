{
 "cells": [
  {
   "cell_type": "code",
   "execution_count": null,
   "id": "initial_id",
   "metadata": {
    "collapsed": true
   },
   "outputs": [],
   "source": [
    "a=int(input(\"dien vao so nguyen a\"))\n",
    "print(\"2 lan so nguyen a la\",2*a)"
   ]
  },
  {
   "metadata": {},
   "cell_type": "code",
   "outputs": [],
   "execution_count": null,
   "source": [
    "a=float(input(\"nhap chieu dai hcn\"))\n",
    "b=float(input(\"nhap chieu rong hcn\"))\n",
    "pi=3.14\n",
    "Scircle=((b/2)**2)*pi\n",
    "Srectangle=a*b\n",
    "print(\"dien tich trong cay\",round(Srectangle-Scircle,2))"
   ],
   "id": "5944aca36eca9fee"
  },
  {
   "metadata": {},
   "cell_type": "code",
   "outputs": [],
   "execution_count": null,
   "source": [
    "a=input(\"dien chu cai\")\n",
    "\n",
    "if(65<=ord(a)<=90):\n",
    "    print(\"chu cai in thuong la\",a.lower())\n",
    "if(97<=ord(a)<=122):\n",
    "    print(\"chu cai in hoa la\",a.upper())"
   ],
   "id": "6c225132c2d5a7a2"
  },
  {
   "metadata": {},
   "cell_type": "code",
   "outputs": [],
   "execution_count": null,
   "source": [
    "a=input(\"dien chu cai\")\n",
    "if(65<=ord(a)<=90 and 97<=ord(a)<=122):\n",
    "    print(\"chu cai\",a,\"nam trong alphabet\")\n",
    "else:\n",
    "    print(\"day khong phai chu cai alphabet\")"
   ],
   "id": "d54d331052370818"
  },
  {
   "metadata": {},
   "cell_type": "code",
   "outputs": [],
   "execution_count": null,
   "source": [
    "a=input(\"chu cai\")\n",
    "while(65>ord(a) or ord(a)>90):\n",
    "    print(\"nhap lai\")\n",
    "    a=input(\"dien chu cai in hoa\")\n",
    "if(ord(a)==65):\n",
    "    print(\"khong co chu cai in thuong phia truoc\")\n",
    "    print(\"nhan gia tri\",a.lower())\n",
    "if(65<ord(a)<=90):\n",
    "    consercutiveletter=ord(a.lower())-1\n",
    "    print(chr(consercutiveletter))"
   ],
   "id": "1348b66dd1ea83b9"
  },
  {
   "metadata": {},
   "cell_type": "code",
   "outputs": [],
   "execution_count": null,
   "source": [
    "from math import *\n",
    "a=float(input(\"nhap canh 1 cua tam giac\"))\n",
    "b=float(input(\"nhap canh 2 cua tam giac\"))\n",
    "c=float(input(\"nhap canh 3 cua tam giac\"))\n",
    "if(a+b<=c):\n",
    "    print(\"day khong phai tam giac\")\n",
    "else:\n",
    "    p=(a+b+c)/2\n",
    "    print(\"dien tich tam giac\",round(sqrt(p*(p-a)*(p-b)*(p-c)),1))"
   ],
   "id": "2421e4a80ecf4475"
  },
  {
   "metadata": {},
   "cell_type": "code",
   "outputs": [],
   "execution_count": null,
   "source": [
    "a=input(\"dien day chu nhieu hon 20 ki tu\")\n",
    "while(len(a)<=20):\n",
    "    print(\"dien lai day chu nhieu hon 20 ki tu\")\n",
    "    a=input(\"dien day chu nhieu hon 20 ki tu\")\n",
    "print(\"chu cai thu 5 la\",a[4])\n",
    "print(\"chu cai thu 9 la\",a[8])"
   ],
   "id": "586edb71ca52873d"
  },
  {
   "metadata": {},
   "cell_type": "code",
   "outputs": [],
   "execution_count": null,
   "source": [
    "tenchu=input(\"dien ten chu nha\")\n",
    "chisotruoc=float(input(\"dien chisotruoc\"))\n",
    "chisosau=float(input(\"dien chisosau\"))\n",
    "a=chisosau-chisotruoc\n",
    "print(\"ten chu ho\",tenchu)\n",
    "print(\"chi so truoc\",chisotruoc)\n",
    "print(\"chisosau\",chisosau)\n",
    "if(a<=50):\n",
    "    print(\"gia dien la\",round(a*1984*1.08,1))\n",
    "if(50<a<=100):\n",
    "    print(\"gia dien la\",round(a*2050*1.08,1))\n",
    "if(100<a<=200):\n",
    "    print(\"gia dien la\",round(a*2380*1.08,1))\n",
    "if(200<a<=300):\n",
    "    print(\"gia dien la\",round(a*2998*1.08,1))\n",
    "if(300<a<=400):\n",
    "    print(\"gia dien la\",round(a*3350*1.08,1))\n",
    "if(400<a):\n",
    "    print(\"gia dien la\",round(a*3460*1.08,1))\n"
   ],
   "id": "fc6e166fe75b0712"
  },
  {
   "metadata": {},
   "cell_type": "code",
   "outputs": [],
   "execution_count": null,
   "source": [
    "a=int(input(\"nhap so nguyen\"))\n",
    "if(a%2==0):\n",
    "    print(\"so\",a,\"chan\")\n",
    "if(a%2==1):\n",
    "    print(\"so\",a,\"le\")"
   ],
   "id": "2bc8fac496e04e11"
  },
  {
   "metadata": {},
   "cell_type": "code",
   "outputs": [],
   "execution_count": null,
   "source": [
    "a=int(input(\"nhap mot so nguyen\"))\n",
    "if(a%5==0 and a%10!=0):\n",
    "    print(\"True\")\n",
    "else:\n",
    "    print(\"False\")"
   ],
   "id": "5eff91f91d4fb9a8"
  },
  {
   "metadata": {},
   "cell_type": "code",
   "outputs": [],
   "execution_count": null,
   "source": [
    "a=int(input(\"dien so nguyen\"))\n",
    "if(a%3==0 and a%5==0):\n",
    "    print(\"True\")\n",
    "else:\n",
    "    print(\"False\")"
   ],
   "id": "7b66263c6ded9cb8"
  },
  {
   "metadata": {},
   "cell_type": "code",
   "outputs": [],
   "execution_count": null,
   "source": [
    "sotuoi=int(input(\"dien so tuoi cua ban\"))\n",
    "if(0<sotuoi<18):\n",
    "    print(\"ban chua du tuoi bau cu\")\n",
    "if(18<=sotuoi):\n",
    "    print(\"ban du tuoi bau cu\")"
   ],
   "id": "63d7af858aa3adae"
  },
  {
   "metadata": {},
   "cell_type": "code",
   "outputs": [],
   "execution_count": null,
   "source": [
    "so1=float(input(\"dien so thu 1\"))\n",
    "so2=float(input(\"dien so thu 2\"))\n",
    "if(so1>so2):\n",
    "    print(\"so thu 1 lon hon so thu 2\")\n",
    "elif(so2>so1):\n",
    "    print(\"so thu 2 lon hon so thu 1\")\n",
    "else:\n",
    "    print(\"so thu 1 bang so thu 2\")\n"
   ],
   "id": "44757a46860591ff"
  },
  {
   "metadata": {},
   "cell_type": "code",
   "outputs": [],
   "execution_count": null,
   "source": [
    "a=input(\"nhap 1 ki tu\")\n",
    "if(30<=ord(a)<=39):\n",
    "    print(a,\"la so\")\n",
    "if(65<=ord(a)<=90 and 97<=ord(a)<=122):\n",
    "    print(a,\"la chu\")"
   ],
   "id": "e8b4151369003b36"
  },
  {
   "metadata": {},
   "cell_type": "code",
   "outputs": [],
   "execution_count": null,
   "source": [
    "diemso=float(input(\"nhap diem so\"))\n",
    "if(diemso>=8):\n",
    "    print(\"hoc luc gioi\")\n",
    "elif(6.5<=diemso<8):\n",
    "    print(\"hoc luc kha\")\n",
    "elif(5<=diemso<6.5):\n",
    "    print(\"hoc luc trung binh\")\n",
    "elif(0<diemso<5):\n",
    "    print(\"hoc luc yeu\")"
   ],
   "id": "6b8baf335e3a8670"
  },
  {
   "metadata": {},
   "cell_type": "code",
   "outputs": [],
   "execution_count": null,
   "source": [
    "nam=int(input(\"dien nam\"))\n",
    "if(nam%400==0 or (nam%4==0 and nam%100!=0)):\n",
    "    print(nam,\"la nam nhuan \")"
   ],
   "id": "8d8ef2e49a569a9e"
  },
  {
   "metadata": {},
   "cell_type": "code",
   "outputs": [],
   "execution_count": null,
   "source": [
    "a=int(input(\"dien so\"))\n",
    "match a:\n",
    "    case 0:print(\"Zero\")\n",
    "    case 1:print(\"One\")\n",
    "    case 2:print(\"Two\")\n",
    "    case 3:print(\"Three\")\n",
    "    case 4:print(\"Four\")\n",
    "    case 5:print(\"Five\")\n",
    "    case 6:print(\"Six\")\n",
    "    case 7:print(\"Seven\")\n",
    "    case 8:print(\"Eight\")\n",
    "    case 9:print(\"Nine\")"
   ],
   "id": "aba58c96b5291b7d"
  },
  {
   "metadata": {},
   "cell_type": "code",
   "outputs": [],
   "execution_count": null,
   "source": [
    "diemthi=float(input(\"nhap diem thi\"))\n",
    "if(diemthi>=4):\n",
    "    print(\"qua mon\")\n",
    "elif(0<=diemthi<=4):\n",
    "    print(\"truot mon\")"
   ],
   "id": "8954122accc1c0db"
  },
  {
   "metadata": {},
   "cell_type": "code",
   "outputs": [],
   "execution_count": null,
   "source": [
    "birth=int(input(\"dien nams sinh\"))\n",
    "if(2025-birth>=18):\n",
    "    print(\"ban du 18 tuoi\")\n",
    "elif(2025-birth<18):\n",
    "    print(\"ban khong du 18 tuoi\")"
   ],
   "id": "52e9ccb1c766016f"
  }
 ],
 "metadata": {
  "kernelspec": {
   "display_name": "Python 3",
   "language": "python",
   "name": "python3"
  },
  "language_info": {
   "codemirror_mode": {
    "name": "ipython",
    "version": 2
   },
   "file_extension": ".py",
   "mimetype": "text/x-python",
   "name": "python",
   "nbconvert_exporter": "python",
   "pygments_lexer": "ipython2",
   "version": "2.7.6"
  }
 },
 "nbformat": 4,
 "nbformat_minor": 5
}
